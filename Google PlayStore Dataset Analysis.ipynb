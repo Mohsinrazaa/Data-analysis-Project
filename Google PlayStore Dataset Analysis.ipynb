{
 "cells": [
  {
   "cell_type": "markdown",
   "metadata": {},
   "source": [
    "# Google PlayStore Dataset Analysis\n",
    "In this Notebook, I'm going to analyse the dataset (taken from Kaggle) of all the Apps in the Google Play Store\n",
    "The series of steps followed are :\n",
    "1. Importing Packages\n",
    "2. Reading Data\n",
    "3. Data Preprocessing\n",
    "- 3.1 Handling NULL Values\n",
    "- 3.2 Handling Data Types and Values\n",
    "4. Analyzing Features\n",
    "5. Furthur Analysis."
   ]
  },
  {
   "cell_type": "markdown",
   "metadata": {},
   "source": [
    "### 1. Importing the required packages."
   ]
  },
  {
   "cell_type": "code",
   "execution_count": 3,
   "metadata": {},
   "outputs": [],
   "source": [
    "import pandas as pd\n",
    "import numpy as np\n",
    "import matplotlib.pyplot as plt\n",
    "import seaborn as sns\n",
    "\n",
    "#To hide Warning messages.\n",
    "import warnings\n",
    "warnings.filterwarnings('ignore')"
   ]
  },
  {
   "cell_type": "markdown",
   "metadata": {},
   "source": [
    "### 2. Reading Data"
   ]
  },
  {
   "cell_type": "code",
   "execution_count": 4,
   "metadata": {},
   "outputs": [
    {
     "data": {
      "text/html": [
       "<div>\n",
       "<style scoped>\n",
       "    .dataframe tbody tr th:only-of-type {\n",
       "        vertical-align: middle;\n",
       "    }\n",
       "\n",
       "    .dataframe tbody tr th {\n",
       "        vertical-align: top;\n",
       "    }\n",
       "\n",
       "    .dataframe thead th {\n",
       "        text-align: right;\n",
       "    }\n",
       "</style>\n",
       "<table border=\"1\" class=\"dataframe\">\n",
       "  <thead>\n",
       "    <tr style=\"text-align: right;\">\n",
       "      <th></th>\n",
       "      <th>App</th>\n",
       "      <th>Category</th>\n",
       "      <th>Rating</th>\n",
       "      <th>Reviews</th>\n",
       "      <th>Size</th>\n",
       "      <th>Installs</th>\n",
       "      <th>Type</th>\n",
       "      <th>Price</th>\n",
       "      <th>Content Rating</th>\n",
       "      <th>Genres</th>\n",
       "      <th>Last Updated</th>\n",
       "      <th>Current Ver</th>\n",
       "      <th>Android Ver</th>\n",
       "    </tr>\n",
       "  </thead>\n",
       "  <tbody>\n",
       "    <tr>\n",
       "      <th>0</th>\n",
       "      <td>Photo Editor &amp; Candy Camera &amp; Grid &amp; ScrapBook</td>\n",
       "      <td>ART_AND_DESIGN</td>\n",
       "      <td>4.1</td>\n",
       "      <td>159</td>\n",
       "      <td>19M</td>\n",
       "      <td>10,000+</td>\n",
       "      <td>Free</td>\n",
       "      <td>0</td>\n",
       "      <td>Everyone</td>\n",
       "      <td>Art &amp; Design</td>\n",
       "      <td>7-Jan-18</td>\n",
       "      <td>1.0.0</td>\n",
       "      <td>4.0.3 and up</td>\n",
       "    </tr>\n",
       "    <tr>\n",
       "      <th>1</th>\n",
       "      <td>Coloring book moana</td>\n",
       "      <td>ART_AND_DESIGN</td>\n",
       "      <td>3.9</td>\n",
       "      <td>967</td>\n",
       "      <td>14M</td>\n",
       "      <td>500,000+</td>\n",
       "      <td>Free</td>\n",
       "      <td>0</td>\n",
       "      <td>Everyone</td>\n",
       "      <td>Art &amp; Design;Pretend Play</td>\n",
       "      <td>15-Jan-18</td>\n",
       "      <td>2.0.0</td>\n",
       "      <td>4.0.3 and up</td>\n",
       "    </tr>\n",
       "    <tr>\n",
       "      <th>2</th>\n",
       "      <td>U Launcher Lite – FREE Live Cool Themes, Hide ...</td>\n",
       "      <td>ART_AND_DESIGN</td>\n",
       "      <td>4.7</td>\n",
       "      <td>87510</td>\n",
       "      <td>8.7M</td>\n",
       "      <td>5,000,000+</td>\n",
       "      <td>Free</td>\n",
       "      <td>0</td>\n",
       "      <td>Everyone</td>\n",
       "      <td>Art &amp; Design</td>\n",
       "      <td>1-Aug-18</td>\n",
       "      <td>1.2.4</td>\n",
       "      <td>4.0.3 and up</td>\n",
       "    </tr>\n",
       "    <tr>\n",
       "      <th>3</th>\n",
       "      <td>Sketch - Draw &amp; Paint</td>\n",
       "      <td>ART_AND_DESIGN</td>\n",
       "      <td>4.5</td>\n",
       "      <td>215644</td>\n",
       "      <td>25M</td>\n",
       "      <td>50,000,000+</td>\n",
       "      <td>Free</td>\n",
       "      <td>0</td>\n",
       "      <td>Teen</td>\n",
       "      <td>Art &amp; Design</td>\n",
       "      <td>8-Jun-18</td>\n",
       "      <td>Varies with device</td>\n",
       "      <td>4.2 and up</td>\n",
       "    </tr>\n",
       "    <tr>\n",
       "      <th>4</th>\n",
       "      <td>Pixel Draw - Number Art Coloring Book</td>\n",
       "      <td>ART_AND_DESIGN</td>\n",
       "      <td>4.3</td>\n",
       "      <td>967</td>\n",
       "      <td>2.8M</td>\n",
       "      <td>100,000+</td>\n",
       "      <td>Free</td>\n",
       "      <td>0</td>\n",
       "      <td>Everyone</td>\n",
       "      <td>Art &amp; Design;Creativity</td>\n",
       "      <td>20-Jun-18</td>\n",
       "      <td>1.1</td>\n",
       "      <td>4.4 and up</td>\n",
       "    </tr>\n",
       "  </tbody>\n",
       "</table>\n",
       "</div>"
      ],
      "text/plain": [
       "                                                 App        Category  Rating  \\\n",
       "0     Photo Editor & Candy Camera & Grid & ScrapBook  ART_AND_DESIGN     4.1   \n",
       "1                                Coloring book moana  ART_AND_DESIGN     3.9   \n",
       "2  U Launcher Lite – FREE Live Cool Themes, Hide ...  ART_AND_DESIGN     4.7   \n",
       "3                              Sketch - Draw & Paint  ART_AND_DESIGN     4.5   \n",
       "4              Pixel Draw - Number Art Coloring Book  ART_AND_DESIGN     4.3   \n",
       "\n",
       "   Reviews  Size     Installs  Type Price Content Rating  \\\n",
       "0      159   19M      10,000+  Free     0       Everyone   \n",
       "1      967   14M     500,000+  Free     0       Everyone   \n",
       "2    87510  8.7M   5,000,000+  Free     0       Everyone   \n",
       "3   215644   25M  50,000,000+  Free     0           Teen   \n",
       "4      967  2.8M     100,000+  Free     0       Everyone   \n",
       "\n",
       "                      Genres Last Updated         Current Ver   Android Ver  \n",
       "0               Art & Design     7-Jan-18               1.0.0  4.0.3 and up  \n",
       "1  Art & Design;Pretend Play    15-Jan-18               2.0.0  4.0.3 and up  \n",
       "2               Art & Design     1-Aug-18               1.2.4  4.0.3 and up  \n",
       "3               Art & Design     8-Jun-18  Varies with device    4.2 and up  \n",
       "4    Art & Design;Creativity    20-Jun-18                 1.1    4.4 and up  "
      ]
     },
     "execution_count": 4,
     "metadata": {},
     "output_type": "execute_result"
    }
   ],
   "source": [
    "df = pd.read_csv(\"googleplaystore.csv\")\n",
    "df.head()"
   ]
  },
  {
   "cell_type": "code",
   "execution_count": 5,
   "metadata": {},
   "outputs": [
    {
     "data": {
      "text/html": [
       "<div>\n",
       "<style scoped>\n",
       "    .dataframe tbody tr th:only-of-type {\n",
       "        vertical-align: middle;\n",
       "    }\n",
       "\n",
       "    .dataframe tbody tr th {\n",
       "        vertical-align: top;\n",
       "    }\n",
       "\n",
       "    .dataframe thead th {\n",
       "        text-align: right;\n",
       "    }\n",
       "</style>\n",
       "<table border=\"1\" class=\"dataframe\">\n",
       "  <thead>\n",
       "    <tr style=\"text-align: right;\">\n",
       "      <th></th>\n",
       "      <th>App</th>\n",
       "      <th>Category</th>\n",
       "      <th>Rating</th>\n",
       "      <th>Reviews</th>\n",
       "      <th>Size</th>\n",
       "      <th>Installs</th>\n",
       "      <th>Type</th>\n",
       "      <th>Price</th>\n",
       "      <th>Content Rating</th>\n",
       "      <th>Genres</th>\n",
       "      <th>Last Updated</th>\n",
       "      <th>Current Ver</th>\n",
       "      <th>Android Ver</th>\n",
       "    </tr>\n",
       "  </thead>\n",
       "  <tbody>\n",
       "    <tr>\n",
       "      <th>0</th>\n",
       "      <td>Photo Editor &amp; Candy Camera &amp; Grid &amp; ScrapBook</td>\n",
       "      <td>ART_AND_DESIGN</td>\n",
       "      <td>4.1</td>\n",
       "      <td>159</td>\n",
       "      <td>19M</td>\n",
       "      <td>10,000+</td>\n",
       "      <td>Free</td>\n",
       "      <td>0</td>\n",
       "      <td>Everyone</td>\n",
       "      <td>Art &amp; Design</td>\n",
       "      <td>7-Jan-18</td>\n",
       "      <td>1.0.0</td>\n",
       "      <td>4.0.3 and up</td>\n",
       "    </tr>\n",
       "    <tr>\n",
       "      <th>1</th>\n",
       "      <td>Coloring book moana</td>\n",
       "      <td>ART_AND_DESIGN</td>\n",
       "      <td>3.9</td>\n",
       "      <td>967</td>\n",
       "      <td>14M</td>\n",
       "      <td>500,000+</td>\n",
       "      <td>Free</td>\n",
       "      <td>0</td>\n",
       "      <td>Everyone</td>\n",
       "      <td>Art &amp; Design;Pretend Play</td>\n",
       "      <td>15-Jan-18</td>\n",
       "      <td>2.0.0</td>\n",
       "      <td>4.0.3 and up</td>\n",
       "    </tr>\n",
       "    <tr>\n",
       "      <th>2</th>\n",
       "      <td>U Launcher Lite – FREE Live Cool Themes, Hide ...</td>\n",
       "      <td>ART_AND_DESIGN</td>\n",
       "      <td>4.7</td>\n",
       "      <td>87510</td>\n",
       "      <td>8.7M</td>\n",
       "      <td>5,000,000+</td>\n",
       "      <td>Free</td>\n",
       "      <td>0</td>\n",
       "      <td>Everyone</td>\n",
       "      <td>Art &amp; Design</td>\n",
       "      <td>1-Aug-18</td>\n",
       "      <td>1.2.4</td>\n",
       "      <td>4.0.3 and up</td>\n",
       "    </tr>\n",
       "    <tr>\n",
       "      <th>3</th>\n",
       "      <td>Sketch - Draw &amp; Paint</td>\n",
       "      <td>ART_AND_DESIGN</td>\n",
       "      <td>4.5</td>\n",
       "      <td>215644</td>\n",
       "      <td>25M</td>\n",
       "      <td>50,000,000+</td>\n",
       "      <td>Free</td>\n",
       "      <td>0</td>\n",
       "      <td>Teen</td>\n",
       "      <td>Art &amp; Design</td>\n",
       "      <td>8-Jun-18</td>\n",
       "      <td>Varies with device</td>\n",
       "      <td>4.2 and up</td>\n",
       "    </tr>\n",
       "    <tr>\n",
       "      <th>4</th>\n",
       "      <td>Pixel Draw - Number Art Coloring Book</td>\n",
       "      <td>ART_AND_DESIGN</td>\n",
       "      <td>4.3</td>\n",
       "      <td>967</td>\n",
       "      <td>2.8M</td>\n",
       "      <td>100,000+</td>\n",
       "      <td>Free</td>\n",
       "      <td>0</td>\n",
       "      <td>Everyone</td>\n",
       "      <td>Art &amp; Design;Creativity</td>\n",
       "      <td>20-Jun-18</td>\n",
       "      <td>1.1</td>\n",
       "      <td>4.4 and up</td>\n",
       "    </tr>\n",
       "    <tr>\n",
       "      <th>...</th>\n",
       "      <td>...</td>\n",
       "      <td>...</td>\n",
       "      <td>...</td>\n",
       "      <td>...</td>\n",
       "      <td>...</td>\n",
       "      <td>...</td>\n",
       "      <td>...</td>\n",
       "      <td>...</td>\n",
       "      <td>...</td>\n",
       "      <td>...</td>\n",
       "      <td>...</td>\n",
       "      <td>...</td>\n",
       "      <td>...</td>\n",
       "    </tr>\n",
       "    <tr>\n",
       "      <th>10836</th>\n",
       "      <td>Sya9a Maroc - FR</td>\n",
       "      <td>FAMILY</td>\n",
       "      <td>4.5</td>\n",
       "      <td>38</td>\n",
       "      <td>53M</td>\n",
       "      <td>5,000+</td>\n",
       "      <td>Free</td>\n",
       "      <td>0</td>\n",
       "      <td>Everyone</td>\n",
       "      <td>Education</td>\n",
       "      <td>25-Jul-17</td>\n",
       "      <td>1.48</td>\n",
       "      <td>4.1 and up</td>\n",
       "    </tr>\n",
       "    <tr>\n",
       "      <th>10837</th>\n",
       "      <td>Fr. Mike Schmitz Audio Teachings</td>\n",
       "      <td>FAMILY</td>\n",
       "      <td>5.0</td>\n",
       "      <td>4</td>\n",
       "      <td>3.6M</td>\n",
       "      <td>100+</td>\n",
       "      <td>Free</td>\n",
       "      <td>0</td>\n",
       "      <td>Everyone</td>\n",
       "      <td>Education</td>\n",
       "      <td>6-Jul-18</td>\n",
       "      <td>1</td>\n",
       "      <td>4.1 and up</td>\n",
       "    </tr>\n",
       "    <tr>\n",
       "      <th>10838</th>\n",
       "      <td>Parkinson Exercices FR</td>\n",
       "      <td>MEDICAL</td>\n",
       "      <td>NaN</td>\n",
       "      <td>3</td>\n",
       "      <td>9.5M</td>\n",
       "      <td>1,000+</td>\n",
       "      <td>Free</td>\n",
       "      <td>0</td>\n",
       "      <td>Everyone</td>\n",
       "      <td>Medical</td>\n",
       "      <td>20-Jan-17</td>\n",
       "      <td>1</td>\n",
       "      <td>2.2 and up</td>\n",
       "    </tr>\n",
       "    <tr>\n",
       "      <th>10839</th>\n",
       "      <td>The SCP Foundation DB fr nn5n</td>\n",
       "      <td>BOOKS_AND_REFERENCE</td>\n",
       "      <td>4.5</td>\n",
       "      <td>114</td>\n",
       "      <td>Varies with device</td>\n",
       "      <td>1,000+</td>\n",
       "      <td>Free</td>\n",
       "      <td>0</td>\n",
       "      <td>Mature 17+</td>\n",
       "      <td>Books &amp; Reference</td>\n",
       "      <td>19-Jan-15</td>\n",
       "      <td>Varies with device</td>\n",
       "      <td>Varies with device</td>\n",
       "    </tr>\n",
       "    <tr>\n",
       "      <th>10840</th>\n",
       "      <td>iHoroscope - 2018 Daily Horoscope &amp; Astrology</td>\n",
       "      <td>LIFESTYLE</td>\n",
       "      <td>4.5</td>\n",
       "      <td>398307</td>\n",
       "      <td>19M</td>\n",
       "      <td>10,000,000+</td>\n",
       "      <td>Free</td>\n",
       "      <td>0</td>\n",
       "      <td>Everyone</td>\n",
       "      <td>Lifestyle</td>\n",
       "      <td>25-Jul-18</td>\n",
       "      <td>Varies with device</td>\n",
       "      <td>Varies with device</td>\n",
       "    </tr>\n",
       "  </tbody>\n",
       "</table>\n",
       "<p>10841 rows × 13 columns</p>\n",
       "</div>"
      ],
      "text/plain": [
       "                                                     App             Category  \\\n",
       "0         Photo Editor & Candy Camera & Grid & ScrapBook       ART_AND_DESIGN   \n",
       "1                                    Coloring book moana       ART_AND_DESIGN   \n",
       "2      U Launcher Lite – FREE Live Cool Themes, Hide ...       ART_AND_DESIGN   \n",
       "3                                  Sketch - Draw & Paint       ART_AND_DESIGN   \n",
       "4                  Pixel Draw - Number Art Coloring Book       ART_AND_DESIGN   \n",
       "...                                                  ...                  ...   \n",
       "10836                                   Sya9a Maroc - FR               FAMILY   \n",
       "10837                   Fr. Mike Schmitz Audio Teachings               FAMILY   \n",
       "10838                             Parkinson Exercices FR              MEDICAL   \n",
       "10839                      The SCP Foundation DB fr nn5n  BOOKS_AND_REFERENCE   \n",
       "10840      iHoroscope - 2018 Daily Horoscope & Astrology            LIFESTYLE   \n",
       "\n",
       "       Rating  Reviews                Size     Installs  Type Price  \\\n",
       "0         4.1      159                 19M      10,000+  Free     0   \n",
       "1         3.9      967                 14M     500,000+  Free     0   \n",
       "2         4.7    87510                8.7M   5,000,000+  Free     0   \n",
       "3         4.5   215644                 25M  50,000,000+  Free     0   \n",
       "4         4.3      967                2.8M     100,000+  Free     0   \n",
       "...       ...      ...                 ...          ...   ...   ...   \n",
       "10836     4.5       38                 53M       5,000+  Free     0   \n",
       "10837     5.0        4                3.6M         100+  Free     0   \n",
       "10838     NaN        3                9.5M       1,000+  Free     0   \n",
       "10839     4.5      114  Varies with device       1,000+  Free     0   \n",
       "10840     4.5   398307                 19M  10,000,000+  Free     0   \n",
       "\n",
       "      Content Rating                     Genres Last Updated  \\\n",
       "0           Everyone               Art & Design     7-Jan-18   \n",
       "1           Everyone  Art & Design;Pretend Play    15-Jan-18   \n",
       "2           Everyone               Art & Design     1-Aug-18   \n",
       "3               Teen               Art & Design     8-Jun-18   \n",
       "4           Everyone    Art & Design;Creativity    20-Jun-18   \n",
       "...              ...                        ...          ...   \n",
       "10836       Everyone                  Education    25-Jul-17   \n",
       "10837       Everyone                  Education     6-Jul-18   \n",
       "10838       Everyone                    Medical    20-Jan-17   \n",
       "10839     Mature 17+          Books & Reference    19-Jan-15   \n",
       "10840       Everyone                  Lifestyle    25-Jul-18   \n",
       "\n",
       "              Current Ver         Android Ver  \n",
       "0                   1.0.0        4.0.3 and up  \n",
       "1                   2.0.0        4.0.3 and up  \n",
       "2                   1.2.4        4.0.3 and up  \n",
       "3      Varies with device          4.2 and up  \n",
       "4                     1.1          4.4 and up  \n",
       "...                   ...                 ...  \n",
       "10836                1.48          4.1 and up  \n",
       "10837                   1          4.1 and up  \n",
       "10838                   1          2.2 and up  \n",
       "10839  Varies with device  Varies with device  \n",
       "10840  Varies with device  Varies with device  \n",
       "\n",
       "[10841 rows x 13 columns]"
      ]
     },
     "execution_count": 5,
     "metadata": {},
     "output_type": "execute_result"
    }
   ],
   "source": [
    "df"
   ]
  },
  {
   "cell_type": "markdown",
   "metadata": {},
   "source": [
    "### Handling Data Types of each Feature"
   ]
  },
  {
   "cell_type": "code",
   "execution_count": 6,
   "metadata": {},
   "outputs": [
    {
     "data": {
      "text/plain": [
       "App                object\n",
       "Category           object\n",
       "Rating            float64\n",
       "Reviews             int64\n",
       "Size               object\n",
       "Installs           object\n",
       "Type               object\n",
       "Price              object\n",
       "Content Rating     object\n",
       "Genres             object\n",
       "Last Updated       object\n",
       "Current Ver        object\n",
       "Android Ver        object\n",
       "dtype: object"
      ]
     },
     "execution_count": 6,
     "metadata": {},
     "output_type": "execute_result"
    }
   ],
   "source": [
    "df.dtypes"
   ]
  },
  {
   "cell_type": "markdown",
   "metadata": {},
   "source": [
    "### Count Data Type"
   ]
  },
  {
   "cell_type": "code",
   "execution_count": 7,
   "metadata": {},
   "outputs": [
    {
     "data": {
      "text/plain": [
       "float64     1\n",
       "int64       1\n",
       "object     11\n",
       "dtype: int64"
      ]
     },
     "execution_count": 7,
     "metadata": {},
     "output_type": "execute_result"
    }
   ],
   "source": [
    "df.get_dtype_counts()"
   ]
  },
  {
   "cell_type": "code",
   "execution_count": 8,
   "metadata": {},
   "outputs": [
    {
     "data": {
      "text/html": [
       "<div>\n",
       "<style scoped>\n",
       "    .dataframe tbody tr th:only-of-type {\n",
       "        vertical-align: middle;\n",
       "    }\n",
       "\n",
       "    .dataframe tbody tr th {\n",
       "        vertical-align: top;\n",
       "    }\n",
       "\n",
       "    .dataframe thead th {\n",
       "        text-align: right;\n",
       "    }\n",
       "</style>\n",
       "<table border=\"1\" class=\"dataframe\">\n",
       "  <thead>\n",
       "    <tr style=\"text-align: right;\">\n",
       "      <th></th>\n",
       "      <th>App</th>\n",
       "      <th>Category</th>\n",
       "      <th>Rating</th>\n",
       "      <th>Reviews</th>\n",
       "      <th>Size</th>\n",
       "      <th>Installs</th>\n",
       "      <th>Type</th>\n",
       "      <th>Price</th>\n",
       "      <th>Content Rating</th>\n",
       "      <th>Genres</th>\n",
       "      <th>Last Updated</th>\n",
       "      <th>Current Ver</th>\n",
       "      <th>Android Ver</th>\n",
       "    </tr>\n",
       "  </thead>\n",
       "  <tbody>\n",
       "    <tr>\n",
       "      <th>0</th>\n",
       "      <td>Photo Editor &amp; Candy Camera &amp; Grid &amp; ScrapBook</td>\n",
       "      <td>ART_AND_DESIGN</td>\n",
       "      <td>4.1</td>\n",
       "      <td>159</td>\n",
       "      <td>19M</td>\n",
       "      <td>10,000+</td>\n",
       "      <td>Free</td>\n",
       "      <td>0</td>\n",
       "      <td>Everyone</td>\n",
       "      <td>Art &amp; Design</td>\n",
       "      <td>7-Jan-18</td>\n",
       "      <td>1.0.0</td>\n",
       "      <td>4.0.3 and up</td>\n",
       "    </tr>\n",
       "  </tbody>\n",
       "</table>\n",
       "</div>"
      ],
      "text/plain": [
       "                                              App        Category  Rating  \\\n",
       "0  Photo Editor & Candy Camera & Grid & ScrapBook  ART_AND_DESIGN     4.1   \n",
       "\n",
       "   Reviews Size Installs  Type Price Content Rating        Genres  \\\n",
       "0      159  19M  10,000+  Free     0       Everyone  Art & Design   \n",
       "\n",
       "  Last Updated Current Ver   Android Ver  \n",
       "0     7-Jan-18       1.0.0  4.0.3 and up  "
      ]
     },
     "execution_count": 8,
     "metadata": {},
     "output_type": "execute_result"
    }
   ],
   "source": [
    "df.head(1)"
   ]
  },
  {
   "cell_type": "markdown",
   "metadata": {},
   "source": [
    "### 3. Data Preprocessing\n",
    "     Handling NULL Values"
   ]
  },
  {
   "cell_type": "code",
   "execution_count": 9,
   "metadata": {},
   "outputs": [
    {
     "name": "stdout",
     "output_type": "stream",
     "text": [
      "App                  0\n",
      "Category             0\n",
      "Rating            1474\n",
      "Reviews              0\n",
      "Size                 0\n",
      "Installs             0\n",
      "Type                 1\n",
      "Price                0\n",
      "Content Rating       1\n",
      "Genres               0\n",
      "Last Updated         0\n",
      "Current Ver          8\n",
      "Android Ver          3\n",
      "dtype: int64\n"
     ]
    }
   ],
   "source": [
    "print(df.isnull().sum())\n",
    "\n",
    "df.dropna(inplace=True) #Dropping Rows with Null values"
   ]
  },
  {
   "cell_type": "markdown",
   "metadata": {},
   "source": [
    "    There are many NULL values in Rating, and few in Type,Content Rating and Versions."
   ]
  },
  {
   "cell_type": "code",
   "execution_count": 10,
   "metadata": {},
   "outputs": [],
   "source": [
    "df.drop_duplicates(inplace=True)"
   ]
  },
  {
   "cell_type": "markdown",
   "metadata": {},
   "source": [
    "#### Removing Duplicate entries."
   ]
  },
  {
   "cell_type": "code",
   "execution_count": 12,
   "metadata": {},
   "outputs": [
    {
     "data": {
      "text/plain": [
       "(8886, 13)"
      ]
     },
     "execution_count": 12,
     "metadata": {},
     "output_type": "execute_result"
    }
   ],
   "source": [
    "df.shape"
   ]
  },
  {
   "cell_type": "code",
   "execution_count": 13,
   "metadata": {},
   "outputs": [
    {
     "data": {
      "text/plain": [
       "8886"
      ]
     },
     "execution_count": 13,
     "metadata": {},
     "output_type": "execute_result"
    }
   ],
   "source": [
    "len(df)"
   ]
  },
  {
   "cell_type": "code",
   "execution_count": 14,
   "metadata": {},
   "outputs": [],
   "source": [
    "df.Reviews = df.Reviews.astype('int64') #Changing to int type."
   ]
  },
  {
   "cell_type": "markdown",
   "metadata": {},
   "source": [
    "    Other Features like Size, Installs, Price and Android Vers also must be of numeric type.¶\n",
    "    The values they are holding must be changed to a proper format so that we can use them for analysis and plots.\n",
    "    Example : '10000+' to 10000"
   ]
  },
  {
   "cell_type": "markdown",
   "metadata": {},
   "source": [
    "### Changing the Feature : Installs"
   ]
  },
  {
   "cell_type": "code",
   "execution_count": 15,
   "metadata": {},
   "outputs": [
    {
     "data": {
      "text/plain": [
       "0       10000.0\n",
       "1      500000.0\n",
       "2     5000000.0\n",
       "3    50000000.0\n",
       "4      100000.0\n",
       "Name: Installs, dtype: float64"
      ]
     },
     "execution_count": 15,
     "metadata": {},
     "output_type": "execute_result"
    }
   ],
   "source": [
    "newInstalls = []\n",
    "\n",
    "for row in df.Installs:\n",
    "    \n",
    "    row = row[:-1]\n",
    "    newRow = row.replace(\",\", \"\")\n",
    "    newInstalls.append(float(newRow))\n",
    "    \n",
    "df.Installs = newInstalls\n",
    "df.Installs.head()"
   ]
  },
  {
   "cell_type": "markdown",
   "metadata": {},
   "source": [
    "### Changing the feature : Size"
   ]
  },
  {
   "cell_type": "code",
   "execution_count": 16,
   "metadata": {},
   "outputs": [
    {
     "data": {
      "text/plain": [
       "0    19.0\n",
       "1    14.0\n",
       "2     8.7\n",
       "3    25.0\n",
       "4     2.8\n",
       "Name: Size, dtype: float64"
      ]
     },
     "execution_count": 16,
     "metadata": {},
     "output_type": "execute_result"
    }
   ],
   "source": [
    "newSize = []\n",
    "\n",
    "for row in df.Size:\n",
    "    newrow = row[:-1]\n",
    "    try:\n",
    "        newSize.append(float(newrow))\n",
    "    except:\n",
    "        newSize.append(0) #When it says - Size Varies.\n",
    "    \n",
    "df.Size = newSize\n",
    "\n",
    "df.Size.head()"
   ]
  },
  {
   "cell_type": "markdown",
   "metadata": {},
   "source": [
    "### Changing the feature, Android Ver"
   ]
  },
  {
   "cell_type": "code",
   "execution_count": 17,
   "metadata": {},
   "outputs": [
    {
     "data": {
      "text/plain": [
       "4.0    5602\n",
       "0.0    1178\n",
       "2.0    1160\n",
       "5.0     500\n",
       "3.0     246\n",
       "1.0     104\n",
       "6.0      46\n",
       "7.0      45\n",
       "8.0       5\n",
       "Name: Android Ver, dtype: int64"
      ]
     },
     "execution_count": 17,
     "metadata": {},
     "output_type": "execute_result"
    }
   ],
   "source": [
    "newVer = []\n",
    "\n",
    "for row in df['Android Ver']:\n",
    "    try:\n",
    "        newrow = float(row[:2])\n",
    "    except:\n",
    "        newrow = 0  # When the value is - Varies with device\n",
    "    \n",
    "    newVer.append(newrow)\n",
    "    \n",
    "df['Android Ver'] =  newVer\n",
    "\n",
    "df['Android Ver'].value_counts()"
   ]
  },
  {
   "cell_type": "markdown",
   "metadata": {},
   "source": [
    "### 4. Analyzing Features :\n",
    "    4.1 Categories"
   ]
  },
  {
   "cell_type": "code",
   "execution_count": 18,
   "metadata": {},
   "outputs": [
    {
     "data": {
      "text/plain": [
       "FAMILY                 1717\n",
       "GAME                   1074\n",
       "TOOLS                   733\n",
       "PRODUCTIVITY            334\n",
       "FINANCE                 317\n",
       "PERSONALIZATION         308\n",
       "COMMUNICATION           307\n",
       "LIFESTYLE               305\n",
       "PHOTOGRAPHY             304\n",
       "MEDICAL                 302\n",
       "SPORTS                  286\n",
       "BUSINESS                270\n",
       "HEALTH_AND_FITNESS      262\n",
       "SOCIAL                  244\n",
       "NEWS_AND_MAGAZINES      214\n",
       "TRAVEL_AND_LOCAL        205\n",
       "SHOPPING                202\n",
       "BOOKS_AND_REFERENCE     177\n",
       "VIDEO_PLAYERS           160\n",
       "DATING                  159\n",
       "EDUCATION               129\n",
       "MAPS_AND_NAVIGATION     124\n",
       "ENTERTAINMENT           111\n",
       "FOOD_AND_DRINK          106\n",
       "WEATHER                  75\n",
       "AUTO_AND_VEHICLES        73\n",
       "HOUSE_AND_HOME           68\n",
       "LIBRARIES_AND_DEMO       64\n",
       "ART_AND_DESIGN           61\n",
       "COMICS                   58\n",
       "PARENTING                50\n",
       "EVENTS                   45\n",
       "BEAUTY                   42\n",
       "Name: Category, dtype: int64"
      ]
     },
     "execution_count": 18,
     "metadata": {},
     "output_type": "execute_result"
    }
   ],
   "source": [
    "# Displaying all the categories and their counts.\n",
    "df.Category.value_counts()"
   ]
  },
  {
   "cell_type": "code",
   "execution_count": 19,
   "metadata": {},
   "outputs": [
    {
     "data": {
      "text/plain": [
       "<matplotlib.axes._subplots.AxesSubplot at 0xa6f6070>"
      ]
     },
     "execution_count": 19,
     "metadata": {},
     "output_type": "execute_result"
    },
    {
     "data": {
      "image/png": "[encoded data removed]",
      "text/plain": [
       "<Figure size 864x576 with 1 Axes>"
      ]
     },
     "metadata": {
      "needs_background": "light"
     },
     "output_type": "display_data"
    }
   ],
   "source": [
    "df.Category.value_counts().plot(kind='barh',figsize = (12,8))"
   ]
  },
  {
   "cell_type": "markdown",
   "metadata": {},
   "source": [
    "   ####        Insight : Maximum Number of Apps belong to the Family and Game Category"
   ]
  },
  {
   "cell_type": "markdown",
   "metadata": {},
   "source": [
    "#### 4.2 Rating"
   ]
  },
  {
   "cell_type": "code",
   "execution_count": 20,
   "metadata": {},
   "outputs": [
    {
     "data": {
      "text/plain": [
       "count    8886.000000\n",
       "mean        4.187959\n",
       "std         0.522428\n",
       "min         1.000000\n",
       "25%         4.000000\n",
       "50%         4.300000\n",
       "75%         4.500000\n",
       "max         5.000000\n",
       "Name: Rating, dtype: float64"
      ]
     },
     "execution_count": 20,
     "metadata": {},
     "output_type": "execute_result"
    }
   ],
   "source": [
    "df.Rating.describe()"
   ]
  },
  {
   "cell_type": "code",
   "execution_count": 21,
   "metadata": {},
   "outputs": [
    {
     "data": {
      "text/plain": [
       "<matplotlib.axes._subplots.AxesSubplot at 0xa85a7f0>"
      ]
     },
     "execution_count": 21,
     "metadata": {},
     "output_type": "execute_result"
    },
    {
     "data": {
      "image/png": "[encoded data removed]",
      "text/plain": [
       "<Figure size 432x288 with 1 Axes>"
      ]
     },
     "metadata": {
      "needs_background": "light"
     },
     "output_type": "display_data"
    }
   ],
   "source": [
    "sns.distplot(df.Rating)"
   ]
  },
  {
   "cell_type": "code",
   "execution_count": 22,
   "metadata": {},
   "outputs": [
    {
     "name": "stdout",
     "output_type": "stream",
     "text": [
      "No. of Apps with full ratings:  271\n"
     ]
    }
   ],
   "source": [
    "print(\"No. of Apps with full ratings: \",df.Rating[df['Rating'] == 5 ].count())"
   ]
  },
  {
   "cell_type": "markdown",
   "metadata": {},
   "source": [
    "#### 4.3 Consider the Reviews:\n",
    "Distribution Plot of the feature 'Reviews'"
   ]
  },
  {
   "cell_type": "code",
   "execution_count": 23,
   "metadata": {},
   "outputs": [
    {
     "data": {
      "text/plain": [
       "<matplotlib.axes._subplots.AxesSubplot at 0xa8e5fd0>"
      ]
     },
     "execution_count": 23,
     "metadata": {},
     "output_type": "execute_result"
    },
    {
     "data": {
      "image/png": "[encoded data removed]",
      "text/plain": [
       "<Figure size 720x360 with 1 Axes>"
      ]
     },
     "metadata": {
      "needs_background": "light"
     },
     "output_type": "display_data"
    }
   ],
   "source": [
    "plt.figure(figsize=(10,5))\n",
    "sns.distplot(df.Reviews)"
   ]
  },
  {
   "cell_type": "code",
   "execution_count": 24,
   "metadata": {},
   "outputs": [
    {
     "data": {
      "text/html": [
       "<div>\n",
       "<style scoped>\n",
       "    .dataframe tbody tr th:only-of-type {\n",
       "        vertical-align: middle;\n",
       "    }\n",
       "\n",
       "    .dataframe tbody tr th {\n",
       "        vertical-align: top;\n",
       "    }\n",
       "\n",
       "    .dataframe thead th {\n",
       "        text-align: right;\n",
       "    }\n",
       "</style>\n",
       "<table border=\"1\" class=\"dataframe\">\n",
       "  <thead>\n",
       "    <tr style=\"text-align: right;\">\n",
       "      <th></th>\n",
       "      <th>App</th>\n",
       "      <th>Category</th>\n",
       "      <th>Rating</th>\n",
       "      <th>Reviews</th>\n",
       "      <th>Size</th>\n",
       "      <th>Installs</th>\n",
       "      <th>Type</th>\n",
       "      <th>Price</th>\n",
       "      <th>Content Rating</th>\n",
       "      <th>Genres</th>\n",
       "      <th>Last Updated</th>\n",
       "      <th>Current Ver</th>\n",
       "      <th>Android Ver</th>\n",
       "    </tr>\n",
       "  </thead>\n",
       "  <tbody>\n",
       "    <tr>\n",
       "      <th>335</th>\n",
       "      <td>Messenger – Text and Video Chat for Free</td>\n",
       "      <td>COMMUNICATION</td>\n",
       "      <td>4.0</td>\n",
       "      <td>56642847</td>\n",
       "      <td>0.0</td>\n",
       "      <td>1.000000e+09</td>\n",
       "      <td>Free</td>\n",
       "      <td>0</td>\n",
       "      <td>Everyone</td>\n",
       "      <td>Communication</td>\n",
       "      <td>1-Aug-18</td>\n",
       "      <td>Varies with device</td>\n",
       "      <td>0.0</td>\n",
       "    </tr>\n",
       "    <tr>\n",
       "      <th>336</th>\n",
       "      <td>WhatsApp Messenger</td>\n",
       "      <td>COMMUNICATION</td>\n",
       "      <td>4.4</td>\n",
       "      <td>69119316</td>\n",
       "      <td>0.0</td>\n",
       "      <td>1.000000e+09</td>\n",
       "      <td>Free</td>\n",
       "      <td>0</td>\n",
       "      <td>Everyone</td>\n",
       "      <td>Communication</td>\n",
       "      <td>3-Aug-18</td>\n",
       "      <td>Varies with device</td>\n",
       "      <td>0.0</td>\n",
       "    </tr>\n",
       "    <tr>\n",
       "      <th>382</th>\n",
       "      <td>Messenger – Text and Video Chat for Free</td>\n",
       "      <td>COMMUNICATION</td>\n",
       "      <td>4.0</td>\n",
       "      <td>56646578</td>\n",
       "      <td>0.0</td>\n",
       "      <td>1.000000e+09</td>\n",
       "      <td>Free</td>\n",
       "      <td>0</td>\n",
       "      <td>Everyone</td>\n",
       "      <td>Communication</td>\n",
       "      <td>1-Aug-18</td>\n",
       "      <td>Varies with device</td>\n",
       "      <td>0.0</td>\n",
       "    </tr>\n",
       "    <tr>\n",
       "      <th>1670</th>\n",
       "      <td>Clash of Clans</td>\n",
       "      <td>GAME</td>\n",
       "      <td>4.6</td>\n",
       "      <td>44891723</td>\n",
       "      <td>98.0</td>\n",
       "      <td>1.000000e+08</td>\n",
       "      <td>Free</td>\n",
       "      <td>0</td>\n",
       "      <td>Everyone 10+</td>\n",
       "      <td>Strategy</td>\n",
       "      <td>15-Jul-18</td>\n",
       "      <td>10.322.16</td>\n",
       "      <td>4.0</td>\n",
       "    </tr>\n",
       "    <tr>\n",
       "      <th>1879</th>\n",
       "      <td>Clash of Clans</td>\n",
       "      <td>GAME</td>\n",
       "      <td>4.6</td>\n",
       "      <td>44893888</td>\n",
       "      <td>98.0</td>\n",
       "      <td>1.000000e+08</td>\n",
       "      <td>Free</td>\n",
       "      <td>0</td>\n",
       "      <td>Everyone 10+</td>\n",
       "      <td>Strategy</td>\n",
       "      <td>15-Jul-18</td>\n",
       "      <td>10.322.16</td>\n",
       "      <td>4.0</td>\n",
       "    </tr>\n",
       "    <tr>\n",
       "      <th>2544</th>\n",
       "      <td>Facebook</td>\n",
       "      <td>SOCIAL</td>\n",
       "      <td>4.1</td>\n",
       "      <td>78158306</td>\n",
       "      <td>0.0</td>\n",
       "      <td>1.000000e+09</td>\n",
       "      <td>Free</td>\n",
       "      <td>0</td>\n",
       "      <td>Teen</td>\n",
       "      <td>Social</td>\n",
       "      <td>3-Aug-18</td>\n",
       "      <td>Varies with device</td>\n",
       "      <td>0.0</td>\n",
       "    </tr>\n",
       "    <tr>\n",
       "      <th>2545</th>\n",
       "      <td>Instagram</td>\n",
       "      <td>SOCIAL</td>\n",
       "      <td>4.5</td>\n",
       "      <td>66577313</td>\n",
       "      <td>0.0</td>\n",
       "      <td>1.000000e+09</td>\n",
       "      <td>Free</td>\n",
       "      <td>0</td>\n",
       "      <td>Teen</td>\n",
       "      <td>Social</td>\n",
       "      <td>31-Jul-18</td>\n",
       "      <td>Varies with device</td>\n",
       "      <td>0.0</td>\n",
       "    </tr>\n",
       "    <tr>\n",
       "      <th>2604</th>\n",
       "      <td>Instagram</td>\n",
       "      <td>SOCIAL</td>\n",
       "      <td>4.5</td>\n",
       "      <td>66577446</td>\n",
       "      <td>0.0</td>\n",
       "      <td>1.000000e+09</td>\n",
       "      <td>Free</td>\n",
       "      <td>0</td>\n",
       "      <td>Teen</td>\n",
       "      <td>Social</td>\n",
       "      <td>31-Jul-18</td>\n",
       "      <td>Varies with device</td>\n",
       "      <td>0.0</td>\n",
       "    </tr>\n",
       "    <tr>\n",
       "      <th>3904</th>\n",
       "      <td>WhatsApp Messenger</td>\n",
       "      <td>COMMUNICATION</td>\n",
       "      <td>4.4</td>\n",
       "      <td>69109672</td>\n",
       "      <td>0.0</td>\n",
       "      <td>1.000000e+09</td>\n",
       "      <td>Free</td>\n",
       "      <td>0</td>\n",
       "      <td>Everyone</td>\n",
       "      <td>Communication</td>\n",
       "      <td>3-Aug-18</td>\n",
       "      <td>Varies with device</td>\n",
       "      <td>0.0</td>\n",
       "    </tr>\n",
       "    <tr>\n",
       "      <th>3909</th>\n",
       "      <td>Instagram</td>\n",
       "      <td>SOCIAL</td>\n",
       "      <td>4.5</td>\n",
       "      <td>66509917</td>\n",
       "      <td>0.0</td>\n",
       "      <td>1.000000e+09</td>\n",
       "      <td>Free</td>\n",
       "      <td>0</td>\n",
       "      <td>Teen</td>\n",
       "      <td>Social</td>\n",
       "      <td>31-Jul-18</td>\n",
       "      <td>Varies with device</td>\n",
       "      <td>0.0</td>\n",
       "    </tr>\n",
       "    <tr>\n",
       "      <th>3943</th>\n",
       "      <td>Facebook</td>\n",
       "      <td>SOCIAL</td>\n",
       "      <td>4.1</td>\n",
       "      <td>78128208</td>\n",
       "      <td>0.0</td>\n",
       "      <td>1.000000e+09</td>\n",
       "      <td>Free</td>\n",
       "      <td>0</td>\n",
       "      <td>Teen</td>\n",
       "      <td>Social</td>\n",
       "      <td>3-Aug-18</td>\n",
       "      <td>Varies with device</td>\n",
       "      <td>0.0</td>\n",
       "    </tr>\n",
       "    <tr>\n",
       "      <th>3986</th>\n",
       "      <td>Clash of Clans</td>\n",
       "      <td>FAMILY</td>\n",
       "      <td>4.6</td>\n",
       "      <td>44881447</td>\n",
       "      <td>98.0</td>\n",
       "      <td>1.000000e+08</td>\n",
       "      <td>Free</td>\n",
       "      <td>0</td>\n",
       "      <td>Everyone 10+</td>\n",
       "      <td>Strategy</td>\n",
       "      <td>15-Jul-18</td>\n",
       "      <td>10.322.16</td>\n",
       "      <td>4.0</td>\n",
       "    </tr>\n",
       "    <tr>\n",
       "      <th>4005</th>\n",
       "      <td>Clean Master- Space Cleaner &amp; Antivirus</td>\n",
       "      <td>TOOLS</td>\n",
       "      <td>4.7</td>\n",
       "      <td>42916526</td>\n",
       "      <td>0.0</td>\n",
       "      <td>5.000000e+08</td>\n",
       "      <td>Free</td>\n",
       "      <td>0</td>\n",
       "      <td>Everyone</td>\n",
       "      <td>Tools</td>\n",
       "      <td>3-Aug-18</td>\n",
       "      <td>Varies with device</td>\n",
       "      <td>0.0</td>\n",
       "    </tr>\n",
       "  </tbody>\n",
       "</table>\n",
       "</div>"
      ],
      "text/plain": [
       "                                           App       Category  Rating  \\\n",
       "335   Messenger – Text and Video Chat for Free  COMMUNICATION     4.0   \n",
       "336                         WhatsApp Messenger  COMMUNICATION     4.4   \n",
       "382   Messenger – Text and Video Chat for Free  COMMUNICATION     4.0   \n",
       "1670                            Clash of Clans           GAME     4.6   \n",
       "1879                            Clash of Clans           GAME     4.6   \n",
       "2544                                  Facebook         SOCIAL     4.1   \n",
       "2545                                 Instagram         SOCIAL     4.5   \n",
       "2604                                 Instagram         SOCIAL     4.5   \n",
       "3904                        WhatsApp Messenger  COMMUNICATION     4.4   \n",
       "3909                                 Instagram         SOCIAL     4.5   \n",
       "3943                                  Facebook         SOCIAL     4.1   \n",
       "3986                            Clash of Clans         FAMILY     4.6   \n",
       "4005   Clean Master- Space Cleaner & Antivirus          TOOLS     4.7   \n",
       "\n",
       "       Reviews  Size      Installs  Type Price Content Rating         Genres  \\\n",
       "335   56642847   0.0  1.000000e+09  Free     0       Everyone  Communication   \n",
       "336   69119316   0.0  1.000000e+09  Free     0       Everyone  Communication   \n",
       "382   56646578   0.0  1.000000e+09  Free     0       Everyone  Communication   \n",
       "1670  44891723  98.0  1.000000e+08  Free     0   Everyone 10+       Strategy   \n",
       "1879  44893888  98.0  1.000000e+08  Free     0   Everyone 10+       Strategy   \n",
       "2544  78158306   0.0  1.000000e+09  Free     0           Teen         Social   \n",
       "2545  66577313   0.0  1.000000e+09  Free     0           Teen         Social   \n",
       "2604  66577446   0.0  1.000000e+09  Free     0           Teen         Social   \n",
       "3904  69109672   0.0  1.000000e+09  Free     0       Everyone  Communication   \n",
       "3909  66509917   0.0  1.000000e+09  Free     0           Teen         Social   \n",
       "3943  78128208   0.0  1.000000e+09  Free     0           Teen         Social   \n",
       "3986  44881447  98.0  1.000000e+08  Free     0   Everyone 10+       Strategy   \n",
       "4005  42916526   0.0  5.000000e+08  Free     0       Everyone          Tools   \n",
       "\n",
       "     Last Updated         Current Ver  Android Ver  \n",
       "335      1-Aug-18  Varies with device          0.0  \n",
       "336      3-Aug-18  Varies with device          0.0  \n",
       "382      1-Aug-18  Varies with device          0.0  \n",
       "1670    15-Jul-18           10.322.16          4.0  \n",
       "1879    15-Jul-18           10.322.16          4.0  \n",
       "2544     3-Aug-18  Varies with device          0.0  \n",
       "2545    31-Jul-18  Varies with device          0.0  \n",
       "2604    31-Jul-18  Varies with device          0.0  \n",
       "3904     3-Aug-18  Varies with device          0.0  \n",
       "3909    31-Jul-18  Varies with device          0.0  \n",
       "3943     3-Aug-18  Varies with device          0.0  \n",
       "3986    15-Jul-18           10.322.16          4.0  \n",
       "4005     3-Aug-18  Varies with device          0.0  "
      ]
     },
     "execution_count": 24,
     "metadata": {},
     "output_type": "execute_result"
    }
   ],
   "source": [
    "df[df.Reviews>40000000]"
   ]
  },
  {
   "cell_type": "markdown",
   "metadata": {},
   "source": [
    "#### 4.4Type:"
   ]
  },
  {
   "cell_type": "code",
   "execution_count": 27,
   "metadata": {},
   "outputs": [
    {
     "data": {
      "text/plain": [
       "([<matplotlib.patches.Wedge at 0xa9cc310>,\n",
       "  <matplotlib.patches.Wedge at 0xa90a490>],\n",
       " [Text(-1.0744351676595925, 0.2357733456018803, 'Free'),\n",
       "  Text(1.0744351566222443, -0.23577339589982083, 'Paid')],\n",
       " [Text(-0.5860555459961413, 0.12860364305557104, '93.1%'),\n",
       "  Text(0.5860555399757695, -0.12860367049081134, '6.9%')])"
      ]
     },
     "execution_count": 27,
     "metadata": {},
     "output_type": "execute_result"
    },
    {
     "data": {
      "image/png": "[encoded data removed]",
      "text/plain": [
       "<Figure size 432x288 with 1 Axes>"
      ]
     },
     "metadata": {},
     "output_type": "display_data"
    }
   ],
   "source": [
    "plt.pie(df.Type.value_counts(), labels=['Free', 'Paid'], autopct='%1.1f%%')"
   ]
  },
  {
   "cell_type": "markdown",
   "metadata": {},
   "source": [
    "    nsight: 93% of the Apps are Free in the Play Store"
   ]
  },
  {
   "cell_type": "markdown",
   "metadata": {},
   "source": [
    "#### 4.5 Android Version"
   ]
  },
  {
   "cell_type": "code",
   "execution_count": 31,
   "metadata": {},
   "outputs": [
    {
     "data": {
      "text/plain": [
       "4.0    5602\n",
       "0.0    1178\n",
       "2.0    1160\n",
       "5.0     500\n",
       "3.0     246\n",
       "1.0     104\n",
       "6.0      46\n",
       "7.0      45\n",
       "8.0       5\n",
       "Name: Android Ver, dtype: int64"
      ]
     },
     "execution_count": 31,
     "metadata": {},
     "output_type": "execute_result"
    }
   ],
   "source": [
    "df['Android Ver'].value_counts()"
   ]
  },
  {
   "cell_type": "code",
   "execution_count": 32,
   "metadata": {},
   "outputs": [
    {
     "data": {
      "text/plain": [
       "<matplotlib.axes._subplots.AxesSubplot at 0xac950f0>"
      ]
     },
     "execution_count": 32,
     "metadata": {},
     "output_type": "execute_result"
    },
    {
     "data": {
      "image/png": "[encoded data removed]",
      "text/plain": [
       "<Figure size 432x288 with 1 Axes>"
      ]
     },
     "metadata": {
      "needs_background": "light"
     },
     "output_type": "display_data"
    }
   ],
   "source": [
    "sns.countplot(df['Android Ver'])"
   ]
  },
  {
   "cell_type": "markdown",
   "metadata": {},
   "source": [
    "### 5. Furthur Analysis"
   ]
  },
  {
   "cell_type": "markdown",
   "metadata": {},
   "source": [
    "#### Looking at the Apps with 5.0 ratings:"
   ]
  },
  {
   "cell_type": "code",
   "execution_count": 33,
   "metadata": {},
   "outputs": [
    {
     "data": {
      "text/html": [
       "<div>\n",
       "<style scoped>\n",
       "    .dataframe tbody tr th:only-of-type {\n",
       "        vertical-align: middle;\n",
       "    }\n",
       "\n",
       "    .dataframe tbody tr th {\n",
       "        vertical-align: top;\n",
       "    }\n",
       "\n",
       "    .dataframe thead th {\n",
       "        text-align: right;\n",
       "    }\n",
       "</style>\n",
       "<table border=\"1\" class=\"dataframe\">\n",
       "  <thead>\n",
       "    <tr style=\"text-align: right;\">\n",
       "      <th></th>\n",
       "      <th>App</th>\n",
       "      <th>Category</th>\n",
       "      <th>Rating</th>\n",
       "      <th>Reviews</th>\n",
       "      <th>Size</th>\n",
       "      <th>Installs</th>\n",
       "      <th>Type</th>\n",
       "      <th>Price</th>\n",
       "      <th>Content Rating</th>\n",
       "      <th>Genres</th>\n",
       "      <th>Last Updated</th>\n",
       "      <th>Current Ver</th>\n",
       "      <th>Android Ver</th>\n",
       "    </tr>\n",
       "  </thead>\n",
       "  <tbody>\n",
       "    <tr>\n",
       "      <th>329</th>\n",
       "      <td>Hojiboy Tojiboyev Life Hacks</td>\n",
       "      <td>COMICS</td>\n",
       "      <td>5.0</td>\n",
       "      <td>15</td>\n",
       "      <td>37.0</td>\n",
       "      <td>1000.0</td>\n",
       "      <td>Free</td>\n",
       "      <td>0</td>\n",
       "      <td>Everyone</td>\n",
       "      <td>Comics</td>\n",
       "      <td>26-Jun-18</td>\n",
       "      <td>2</td>\n",
       "      <td>4.0</td>\n",
       "    </tr>\n",
       "    <tr>\n",
       "      <th>612</th>\n",
       "      <td>American Girls Mobile Numbers</td>\n",
       "      <td>DATING</td>\n",
       "      <td>5.0</td>\n",
       "      <td>5</td>\n",
       "      <td>4.4</td>\n",
       "      <td>1000.0</td>\n",
       "      <td>Free</td>\n",
       "      <td>0</td>\n",
       "      <td>Mature 17+</td>\n",
       "      <td>Dating</td>\n",
       "      <td>17-Jul-18</td>\n",
       "      <td>3</td>\n",
       "      <td>4.0</td>\n",
       "    </tr>\n",
       "    <tr>\n",
       "      <th>615</th>\n",
       "      <td>Awake Dating</td>\n",
       "      <td>DATING</td>\n",
       "      <td>5.0</td>\n",
       "      <td>2</td>\n",
       "      <td>70.0</td>\n",
       "      <td>100.0</td>\n",
       "      <td>Free</td>\n",
       "      <td>0</td>\n",
       "      <td>Mature 17+</td>\n",
       "      <td>Dating</td>\n",
       "      <td>24-Jul-18</td>\n",
       "      <td>2.2.9</td>\n",
       "      <td>4.0</td>\n",
       "    </tr>\n",
       "    <tr>\n",
       "      <th>633</th>\n",
       "      <td>Spine- The dating app</td>\n",
       "      <td>DATING</td>\n",
       "      <td>5.0</td>\n",
       "      <td>5</td>\n",
       "      <td>9.3</td>\n",
       "      <td>500.0</td>\n",
       "      <td>Free</td>\n",
       "      <td>0</td>\n",
       "      <td>Teen</td>\n",
       "      <td>Dating</td>\n",
       "      <td>14-Jul-18</td>\n",
       "      <td>4</td>\n",
       "      <td>4.0</td>\n",
       "    </tr>\n",
       "    <tr>\n",
       "      <th>636</th>\n",
       "      <td>Girls Live Talk - Free Text and Video Chat</td>\n",
       "      <td>DATING</td>\n",
       "      <td>5.0</td>\n",
       "      <td>6</td>\n",
       "      <td>5.0</td>\n",
       "      <td>100.0</td>\n",
       "      <td>Free</td>\n",
       "      <td>0</td>\n",
       "      <td>Mature 17+</td>\n",
       "      <td>Dating</td>\n",
       "      <td>1-Aug-18</td>\n",
       "      <td>8.2</td>\n",
       "      <td>4.0</td>\n",
       "    </tr>\n",
       "  </tbody>\n",
       "</table>\n",
       "</div>"
      ],
      "text/plain": [
       "                                            App Category  Rating  Reviews  \\\n",
       "329                Hojiboy Tojiboyev Life Hacks   COMICS     5.0       15   \n",
       "612               American Girls Mobile Numbers   DATING     5.0        5   \n",
       "615                                Awake Dating   DATING     5.0        2   \n",
       "633                       Spine- The dating app   DATING     5.0        5   \n",
       "636  Girls Live Talk - Free Text and Video Chat   DATING     5.0        6   \n",
       "\n",
       "     Size  Installs  Type Price Content Rating  Genres Last Updated  \\\n",
       "329  37.0    1000.0  Free     0       Everyone  Comics    26-Jun-18   \n",
       "612   4.4    1000.0  Free     0     Mature 17+  Dating    17-Jul-18   \n",
       "615  70.0     100.0  Free     0     Mature 17+  Dating    24-Jul-18   \n",
       "633   9.3     500.0  Free     0           Teen  Dating    14-Jul-18   \n",
       "636   5.0     100.0  Free     0     Mature 17+  Dating     1-Aug-18   \n",
       "\n",
       "    Current Ver  Android Ver  \n",
       "329           2          4.0  \n",
       "612           3          4.0  \n",
       "615       2.2.9          4.0  \n",
       "633           4          4.0  \n",
       "636         8.2          4.0  "
      ]
     },
     "execution_count": 33,
     "metadata": {},
     "output_type": "execute_result"
    }
   ],
   "source": [
    "df_full = df[df.Rating == 5]\n",
    "df_full.head()"
   ]
  },
  {
   "cell_type": "code",
   "execution_count": 34,
   "metadata": {},
   "outputs": [
    {
     "data": {
      "text/plain": [
       "<matplotlib.axes._subplots.AxesSubplot at 0xacd6a70>"
      ]
     },
     "execution_count": 34,
     "metadata": {},
     "output_type": "execute_result"
    },
    {
     "data": {
      "image/png": "[encoded data removed]",
      "text/plain": [
       "<Figure size 432x288 with 1 Axes>"
      ]
     },
     "metadata": {
      "needs_background": "light"
     },
     "output_type": "display_data"
    }
   ],
   "source": [
    "sns.distplot(df_full.Installs)"
   ]
  },
  {
   "cell_type": "code",
   "execution_count": 35,
   "metadata": {},
   "outputs": [
    {
     "data": {
      "text/plain": [
       "1.0          3\n",
       "5.0          8\n",
       "10.0        48\n",
       "50.0        32\n",
       "100.0      112\n",
       "500.0       27\n",
       "1000.0      37\n",
       "5000.0       3\n",
       "10000.0      1\n",
       "Name: Installs, dtype: int64"
      ]
     },
     "execution_count": 35,
     "metadata": {},
     "output_type": "execute_result"
    }
   ],
   "source": [
    "df_full.Installs.value_counts().sort_index()"
   ]
  },
  {
   "cell_type": "code",
   "execution_count": 36,
   "metadata": {},
   "outputs": [
    {
     "name": "stdout",
     "output_type": "stream",
     "text": [
      "No. of Apps having 5.0 Rating with sufficient Reviews:  16\n"
     ]
    }
   ],
   "source": [
    "df_full = df_full[df.Reviews > 30]\n",
    "print(\"No. of Apps having 5.0 Rating with sufficient Reviews: \",df_full.App.count())"
   ]
  },
  {
   "cell_type": "code",
   "execution_count": 37,
   "metadata": {},
   "outputs": [
    {
     "data": {
      "text/plain": [
       "<matplotlib.axes._subplots.AxesSubplot at 0xacd6930>"
      ]
     },
     "execution_count": 37,
     "metadata": {},
     "output_type": "execute_result"
    },
    {
     "data": {
      "image/png": "[encoded data removed]",
      "text/plain": [
       "<Figure size 864x360 with 1 Axes>"
      ]
     },
     "metadata": {
      "needs_background": "light"
     },
     "output_type": "display_data"
    }
   ],
   "source": [
    "plt.figure(figsize=(12,5))\n",
    "sns.countplot(df_full.Genres)"
   ]
  },
  {
   "cell_type": "markdown",
   "metadata": {},
   "source": [
    "####             Insight : Apps related to Education, LifeStyle and Tools seem to fetch full Ratings with sufficient number of reviews."
   ]
  },
  {
   "cell_type": "code",
   "execution_count": 48,
   "metadata": {},
   "outputs": [
    {
     "data": {
      "text/plain": [
       "<matplotlib.axes._subplots.AxesSubplot at 0xde43df0>"
      ]
     },
     "execution_count": 48,
     "metadata": {},
     "output_type": "execute_result"
    },
    {
     "data": {
      "image/png": "[encoded data removed]",
      "text/plain": [
       "<Figure size 432x288 with 1 Axes>"
      ]
     },
     "metadata": {
      "needs_background": "light"
     },
     "output_type": "display_data"
    }
   ],
   "source": [
    "sns.countplot(df_full.Price)"
   ]
  },
  {
   "cell_type": "markdown",
   "metadata": {},
   "source": [
    "#### Insight : All the Apps with 5.0 ratings are Free to install."
   ]
  },
  {
   "cell_type": "code",
   "execution_count": null,
   "metadata": {},
   "outputs": [],
   "source": []
  }
 ],
 "metadata": {
  "kernelspec": {
   "display_name": "Python 3",
   "language": "python",
   "name": "python3"
  },
  "language_info": {
   "codemirror_mode": {
    "name": "ipython",
    "version": 3
   },
   "file_extension": ".py",
   "mimetype": "text/x-python",
   "name": "python",
   "nbconvert_exporter": "python",
   "pygments_lexer": "ipython3",
   "version": "3.7.3"
  }
 },
 "nbformat": 4,
 "nbformat_minor": 4
}
